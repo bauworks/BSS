{
 "cells": [
  {
   "cell_type": "code",
   "execution_count": null,
   "metadata": {
    "tags": []
   },
   "outputs": [],
   "source": [
    "#Pandas DataReaderをインストール\n",
    "!pip install pandas_datareader"
   ]
  },
  {
   "cell_type": "code",
   "execution_count": null,
   "metadata": {},
   "outputs": [],
   "source": [
    "#必要なパッケージをインポート\n",
    "from pandas_datareader import data\n",
    "import pandas as pd\n",
    "import matplotlib.pyplot as plt\n",
    "\n",
    "#ワーニング抑止\n",
    "%matplotlib inline\n",
    "# pd.core.common.is_list_like = pd.api.types.is_list_like"
   ]
  },
  {
   "cell_type": "code",
   "execution_count": null,
   "metadata": {},
   "outputs": [],
   "source": [
    "#期間設定\n",
    "start = '2015-06-01'\n",
    "end = '2020-07-01'\n",
    "\n",
    "#日経225平均を取得\n",
    "df = data.DataReader('^N225', 'yahoo', start, end)"
   ]
  },
  {
   "cell_type": "code",
   "execution_count": null,
   "metadata": {},
   "outputs": [],
   "source": [
    "# ここからSQLITE３でDBを作ってみよう\n",
    "import sqlite3\n",
    "\n",
    "# DB、テーブル作成\n",
    "dbname = 'STOCK.db'\n",
    "conn = sqlite3.connect(dbname)\n",
    "df.to_sql('N225', conn, if_exists = 'replace')\n",
    "# Option => if_exists　: append, replace, fail\n",
    "conn.close()"
   ]
  },
  {
   "cell_type": "code",
   "execution_count": null,
   "metadata": {},
   "outputs": [],
   "source": [
    "# 検索SQL\n",
    "sql = '''\n",
    "select * from N225\n",
    "where Date between '2020-05-01 00:00:00' and  '2020-05-31 00:00:00'\n",
    "'''"
   ]
  },
  {
   "cell_type": "code",
   "execution_count": null,
   "metadata": {},
   "outputs": [],
   "source": [
    "# SQLを実行して結果をデータフレームに格納する\n",
    "conn = sqlite3.connect(dbname)\n",
    "df_vlm = pd.read_sql(sql, conn)\n",
    "conn.close()"
   ]
  },
  {
   "cell_type": "code",
   "execution_count": null,
   "metadata": {},
   "outputs": [],
   "source": [
    "df_vlm"
   ]
  },
  {
   "cell_type": "code",
   "execution_count": null,
   "metadata": {},
   "outputs": [],
   "source": [
    "import datetime\n",
    "\n",
    "##------------------------------\n",
    "## グラフ表示関数\n",
    "##------------------------------\n",
    "def show_graph(start, end):\n",
    "    dbname = 'STOCK.db'\n",
    "    sql = F\"select * from N225 where Date between '{start} 00:00:00' and  '{end} 23:59:59'\"\n",
    "\n",
    "    #DBから日経225平均を取得\n",
    "    conn = sqlite3.connect(dbname)\n",
    "    df_tmp = pd.read_sql(sql, conn)\n",
    "    conn.close()\n",
    "    \n",
    "    #DATE型のINDEX作成\n",
    "    dateidx = []\n",
    "    for d in df_tmp['Date']:\n",
    "        formatted = datetime.datetime.strptime(d, \"%Y-%m-%d %H:%M:%S\")\n",
    "        dateidx.append(formatted)\n",
    "    \n",
    "    df_tmp['DateIdx'] = dateidx\n",
    "    df = df_tmp.set_index('DateIdx')\n",
    "\n",
    "    #全行表示\n",
    "    #pd.set_option('display.max_rows', None)\n",
    "    #print(df)\n",
    "    \n",
    "    #X軸、Y軸のデータを抽出\n",
    "    date = df.index\n",
    "    price= df['Adj Close']\n",
    "\n",
    "    #移動平均取得\n",
    "    span01=5\n",
    "    span02=25\n",
    "    span03=75\n",
    "    df['sma01'] = price.rolling(window=span01).mean()\n",
    "    df['sma02'] = price.rolling(window=span02).mean()\n",
    "    df['sma03'] = price.rolling(window=span03).mean()\n",
    "\n",
    "    #グラフの大きさを指定\n",
    "    plt.figure(figsize=(20,10))\n",
    "\n",
    "    #株価グラフ\n",
    "    plt.subplot(2,1,1)   # 縦分割数, 横分割数, 配置位置\n",
    "    plt.plot(date, price, label='Close', color='#99b898')\n",
    "    plt.plot(date,df['sma01'], label='Ave 5', color='#e84a5f')\n",
    "    plt.plot(date,df['sma02'], label='Ave 25', color='#ff847c')\n",
    "    plt.plot(date,df['sma03'], label='Ave 75', color='#feceab')\n",
    "    plt.legend()\n",
    "\n",
    "    #出来高グラフ\n",
    "    plt.subplot(2,1,2)\n",
    "    plt.bar(date, df['Volume'], label='Volume', color='grey')\n",
    "    plt.legend()"
   ]
  },
  {
   "cell_type": "code",
   "execution_count": null,
   "metadata": {},
   "outputs": [],
   "source": [
    "show_graph('2020-01-01', '2020-06-30')"
   ]
  },
  {
   "cell_type": "code",
   "execution_count": null,
   "metadata": {},
   "outputs": [],
   "source": []
  }
 ],
 "metadata": {
  "kernelspec": {
   "display_name": "Python 3",
   "language": "python",
   "name": "python3"
  },
  "language_info": {
   "codemirror_mode": {
    "name": "ipython",
    "version": 3
   },
   "file_extension": ".py",
   "mimetype": "text/x-python",
   "name": "python",
   "nbconvert_exporter": "python",
   "pygments_lexer": "ipython3",
   "version": "3.7.4-final"
  }
 },
 "nbformat": 4,
 "nbformat_minor": 4
}