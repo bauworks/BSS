{
 "cells": [
  {
   "cell_type": "code",
   "execution_count": null,
   "metadata": {
    "tags": []
   },
   "outputs": [],
   "source": [
    "##Pythonで株価のデータ分析｜株価分析を通してPythonでのデータ分析を学びましょう\n",
    "##https://www.youtube.com/watch?v=0-fZ47QudYo\n",
    "\n",
    "#Pandas DataReaderをインストール\n",
    "!pip install pandas_datareader"
   ]
  },
  {
   "cell_type": "code",
   "execution_count": null,
   "metadata": {},
   "outputs": [],
   "source": [
    "#必要なパッケージをインポート\n",
    "from pandas_datareader import data\n",
    "import pandas as pd\n",
    "import matplotlib.pyplot as plt\n",
    "\n",
    "#ワーニング抑止\n",
    "%matplotlib inline\n",
    "# pd.core.common.is_list_like = pd.api.types.is_list_like"
   ]
  },
  {
   "cell_type": "code",
   "execution_count": null,
   "metadata": {},
   "outputs": [],
   "source": [
    "#個別銘柄を取得(リクルートホールディングス 6098.JP)\n",
    "df = data.DataReader('6098.JP', 'stooq')\n"
   ]
  },
  {
   "cell_type": "code",
   "execution_count": null,
   "metadata": {},
   "outputs": [],
   "source": [
    "#取得データを確認\n",
    "df.head()"
   ]
  },
  {
   "cell_type": "code",
   "execution_count": null,
   "metadata": {},
   "outputs": [],
   "source": [
    "#一番古いデータ\n",
    "df.index.min()"
   ]
  },
  {
   "cell_type": "code",
   "execution_count": null,
   "metadata": {},
   "outputs": [],
   "source": [
    "#一番新しいデータ\n",
    "df.index.max()"
   ]
  },
  {
   "cell_type": "code",
   "execution_count": null,
   "metadata": {},
   "outputs": [],
   "source": [
    "##降順データを昇順に並び替え\n",
    "#INDEXでソートする（値でソートするならsort_values()）\n",
    "df = df.sort_index()\n",
    "df.head(10)"
   ]
  },
  {
   "cell_type": "code",
   "execution_count": null,
   "metadata": {},
   "outputs": [],
   "source": [
    "##条件指定\n",
    "df.index>='2019-06-01 00:00:00'"
   ]
  },
  {
   "cell_type": "code",
   "execution_count": null,
   "metadata": {},
   "outputs": [],
   "source": [
    "#条件に合うものだけを抽出(2019/6/1 〜 2020/4/30)\n",
    "#df[df.index>='2019-06-01 00:00:00']\n",
    "#df[df.index<='2020-05-01 00:00:00']\n",
    "df[(df.index>='2019-06-01 00:00:00') & (df.index<='2020-05-01 00:00:00')]"
   ]
  },
  {
   "cell_type": "code",
   "execution_count": null,
   "metadata": {},
   "outputs": [],
   "source": [
    "## リクルートホールディングスのグラフを書いてみる\n",
    "df = df[(df.index>='2019-06-01 00:00:00') & (df.index<='2020-05-01 00:00:00')]\n",
    "date = df.index\n",
    "price= df['Close']\n",
    "\n",
    "#移動平均取得\n",
    "span01=5\n",
    "span02=25\n",
    "span03=50\n",
    "df['sma01'] = price.rolling(window=span01).mean()\n",
    "df['sma02'] = price.rolling(window=span02).mean()\n",
    "df['sma03'] = price.rolling(window=span03).mean()\n",
    "\n",
    "plt.figure(figsize=(30,15))\n",
    "\n",
    "#株価\n",
    "plt.subplot(2,1,1)   # 縦分割数, 横分割数, 配置位置\n",
    "plt.plot(date, price, label='Close', color='#99b898')\n",
    "plt.plot(date,df['sma01'], label='sma01', color='#e84a5f')\n",
    "plt.plot(date,df['sma02'], label='sma02', color='#ff847c')\n",
    "plt.plot(date,df['sma03'], label='sma03', color='#feceab')\n",
    "plt.legend()\n",
    "\n",
    "#出来高\n",
    "plt.subplot(2,1,2)\n",
    "plt.bar(date, df['Volume'], label='Volume', color='grey')\n",
    "plt.legend()\n"
   ]
  },
  {
   "cell_type": "code",
   "execution_count": null,
   "metadata": {},
   "outputs": [],
   "source": [
    "## ファーストリテイリング\n",
    "start = '2019-06-01'\n",
    "end = '2020-05-01'\n",
    "company_code = '6502.JP'\n",
    "\n",
    "##グラフを描画\n",
    "#データ取得して範囲を絞り込む\n",
    "df = data.DataReader(company_code, 'stooq')\n",
    "df = df[(df.index>=start) & (df.index<=end)]\n",
    "\n",
    "#X軸、Y軸のデータを抽出\n",
    "date = df.index\n",
    "price= df['Close']\n",
    "\n",
    "#移動平均取得\n",
    "span01=5\n",
    "span02=25\n",
    "span03=50\n",
    "df['sma01'] = price.rolling(window=span01).mean()\n",
    "df['sma02'] = price.rolling(window=span02).mean()\n",
    "df['sma03'] = price.rolling(window=span03).mean()\n",
    "\n",
    "#グラフの大きさを指定\n",
    "plt.figure(figsize=(30,15))\n",
    "\n",
    "#株価グラフ\n",
    "plt.subplot(2,1,1)   # 縦分割数, 横分割数, 配置位置\n",
    "plt.plot(date, price, label='Close', color='#99b898')\n",
    "plt.plot(date,df['sma01'], label='sma01', color='#e84a5f')\n",
    "plt.plot(date,df['sma02'], label='sma02', color='#ff847c')\n",
    "plt.plot(date,df['sma03'], label='sma03', color='#feceab')\n",
    "plt.legend()\n",
    "\n",
    "#出来高グラフ\n",
    "plt.subplot(2,1,2)\n",
    "plt.bar(date, df['Volume'], label='Volume', color='grey')\n",
    "plt.legend()"
   ]
  },
  {
   "cell_type": "code",
   "execution_count": null,
   "metadata": {},
   "outputs": [],
   "source": [
    "##関数にする\n",
    "def company_stock(start, end, company_code):\n",
    "    #範囲を指定してデータ取得\n",
    "    df = data.DataReader(company_code, 'stooq')\n",
    "    df = df[(df.index>=start) & (df.index<=end)]\n",
    "\n",
    "    #X軸、Y軸のデータを抽出\n",
    "    date = df.index\n",
    "    price= df['Close']\n",
    "\n",
    "    #移動平均取得\n",
    "    span01=5\n",
    "    span02=25\n",
    "    span03=50\n",
    "    df['sma01'] = price.rolling(window=span01).mean()\n",
    "    df['sma02'] = price.rolling(window=span02).mean()\n",
    "    df['sma03'] = price.rolling(window=span03).mean()\n",
    "\n",
    "    #グラフの大きさを指定\n",
    "    plt.figure(figsize=(20,10))\n",
    "\n",
    "    #株価グラフ\n",
    "    plt.subplot(2,1,1)   # 縦分割数, 横分割数, 配置位置\n",
    "    plt.plot(date, price, label='Close', color='#99b898')\n",
    "    plt.plot(date,df['sma01'], label='sma01', color='#e84a5f')\n",
    "    plt.plot(date,df['sma02'], label='sma02', color='#ff847c')\n",
    "    plt.plot(date,df['sma03'], label='sma03', color='#feceab')\n",
    "    plt.legend()\n",
    "\n",
    "    #出来高グラフ\n",
    "    plt.subplot(2,1,2)\n",
    "    plt.bar(date, df['Volume'], label='Volume', color='grey')\n",
    "    plt.legend()"
   ]
  },
  {
   "cell_type": "code",
   "execution_count": null,
   "metadata": {},
   "outputs": [],
   "source": [
    "company_stock('2019-06-01', '2020-06-01', '6502.JP')"
   ]
  },
  {
   "cell_type": "code",
   "execution_count": null,
   "metadata": {},
   "outputs": [],
   "source": [
    "company_stock('2017-01-01', '2020-06-01', '6502.JP')"
   ]
  },
  {
   "cell_type": "code",
   "execution_count": null,
   "metadata": {},
   "outputs": [],
   "source": [
    "company_stock('2017-01-01', '2020-06-01', '7203.JP')"
   ]
  }
 ],
 "metadata": {
  "kernelspec": {
   "display_name": "Python 3",
   "language": "python",
   "name": "python3"
  },
  "language_info": {
   "codemirror_mode": {
    "name": "ipython",
    "version": 3
   },
   "file_extension": ".py",
   "mimetype": "text/x-python",
   "name": "python",
   "nbconvert_exporter": "python",
   "pygments_lexer": "ipython3",
   "version": "3.7.4-final"
  }
 },
 "nbformat": 4,
 "nbformat_minor": 4
}