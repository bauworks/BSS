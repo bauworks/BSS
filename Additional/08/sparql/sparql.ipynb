{
 "cells": [
  {
   "cell_type": "code",
   "execution_count": 97,
   "metadata": {},
   "outputs": [],
   "source": [
    "from SPARQLWrapper import SPARQLWrapper\n"
   ]
  },
  {
   "cell_type": "code",
   "execution_count": 98,
   "metadata": {},
   "outputs": [],
   "source": [
    "sparql = SPARQLWrapper(endpoint='http://ja.dbpedia.org/sparql', returnFormat='json')\n",
    "\n"
   ]
  },
  {
   "cell_type": "code",
   "execution_count": 99,
   "metadata": {},
   "outputs": [],
   "source": [
    "sparql.setQuery(\"\"\"                                                                                                                                                                      \n",
    "PREFIX rdfs: <http://www.w3.org/2000/01/rdf-schema#>\n",
    "PREFIX dbpedia-owl:  <http://dbpedia.org/ontology/>\n",
    "PREFIX rdf: <http://www.w3.org/1999/02/22-rdf-syntax-ns#>\n",
    "PREFIX dbpedia-ja: <http://ja.dbpedia.org/resource/>\n",
    "PREFIX category-ja: <http://ja.dbpedia.org/resource/Category:>\n",
    "\n",
    "select distinct ?pref (count(?s) AS ?c) where {\n",
    "  ?pref rdf:type dbpedia-owl:Place.\n",
    "  ?pref dbpedia-owl:wikiPageWikiLink category-ja:日本の都道府県.\n",
    "  ?s rdf:type dbpedia-owl:Person;\n",
    "      dbpedia-owl:wikiPageWikiLink category-ja:日本のアイドル;\n",
    "      dbpedia-owl:birthPlace ?pref.\n",
    "}GROUP BY ?pref\n",
    "ORDER BY ?c                                                                                                                \n",
    "    \"\"\")"
   ]
  },
  {
   "cell_type": "code",
   "execution_count": 100,
   "metadata": {},
   "outputs": [],
   "source": [
    "results = sparql.query().convert()"
   ]
  },
  {
   "cell_type": "code",
   "execution_count": 101,
   "metadata": {},
   "outputs": [
    {
     "name": "stdout",
     "output_type": "stream",
     "text": [
      "http://ja.dbpedia.org/resource/富山県\t1\n",
      "http://ja.dbpedia.org/resource/香川県\t1\n",
      "http://ja.dbpedia.org/resource/鳥取県\t1\n",
      "http://ja.dbpedia.org/resource/島根県\t1\n",
      "http://ja.dbpedia.org/resource/佐賀県\t1\n",
      "http://ja.dbpedia.org/resource/青森県\t2\n",
      "http://ja.dbpedia.org/resource/和歌山県\t2\n",
      "http://ja.dbpedia.org/resource/山口県\t2\n",
      "http://ja.dbpedia.org/resource/山梨県\t2\n",
      "http://ja.dbpedia.org/resource/徳島県\t2\n",
      "http://ja.dbpedia.org/resource/秋田県\t2\n",
      "http://ja.dbpedia.org/resource/長崎県\t3\n",
      "http://ja.dbpedia.org/resource/石川県\t3\n",
      "http://ja.dbpedia.org/resource/高知県\t3\n",
      "http://ja.dbpedia.org/resource/山形県\t4\n",
      "http://ja.dbpedia.org/resource/滋賀県\t4\n",
      "http://ja.dbpedia.org/resource/熊本県\t4\n",
      "http://ja.dbpedia.org/resource/岩手県\t4\n",
      "http://ja.dbpedia.org/resource/宮崎県\t4\n",
      "http://ja.dbpedia.org/resource/愛媛県\t4\n",
      "http://ja.dbpedia.org/resource/京都府\t5\n",
      "http://ja.dbpedia.org/resource/岡山県\t5\n",
      "http://ja.dbpedia.org/resource/福井県\t5\n",
      "http://ja.dbpedia.org/resource/鹿児島県\t5\n",
      "http://ja.dbpedia.org/resource/新潟県\t6\n",
      "http://ja.dbpedia.org/resource/茨城県\t6\n",
      "http://ja.dbpedia.org/resource/岐阜県\t6\n",
      "http://ja.dbpedia.org/resource/奈良県\t7\n",
      "http://ja.dbpedia.org/resource/栃木県\t7\n",
      "http://ja.dbpedia.org/resource/長野県\t7\n",
      "http://ja.dbpedia.org/resource/沖縄県\t7\n",
      "http://ja.dbpedia.org/resource/三重県\t8\n",
      "http://ja.dbpedia.org/resource/大分県\t8\n",
      "http://ja.dbpedia.org/resource/福島県\t8\n",
      "http://ja.dbpedia.org/resource/群馬県\t9\n",
      "http://ja.dbpedia.org/resource/広島県\t9\n",
      "http://ja.dbpedia.org/resource/宮城県\t10\n",
      "http://ja.dbpedia.org/resource/静岡県\t11\n",
      "http://ja.dbpedia.org/resource/福岡県\t15\n",
      "http://ja.dbpedia.org/resource/北海道\t18\n",
      "http://ja.dbpedia.org/resource/兵庫県\t19\n",
      "http://ja.dbpedia.org/resource/大阪府\t39\n",
      "http://ja.dbpedia.org/resource/愛知県\t47\n",
      "http://ja.dbpedia.org/resource/千葉県\t51\n",
      "http://ja.dbpedia.org/resource/埼玉県\t60\n",
      "http://ja.dbpedia.org/resource/神奈川県\t66\n",
      "http://ja.dbpedia.org/resource/東京都\t139\n"
     ]
    }
   ],
   "source": [
    "for res in results[\"results\"][\"bindings\"]:\n",
    "    print(res[\"pref\"][\"value\"] + \"\\t\" + res[\"c\"][\"value\"])"
   ]
  },
  {
   "cell_type": "code",
   "execution_count": null,
   "metadata": {},
   "outputs": [],
   "source": []
  },
  {
   "cell_type": "code",
   "execution_count": null,
   "metadata": {},
   "outputs": [],
   "source": []
  },
  {
   "cell_type": "code",
   "execution_count": null,
   "metadata": {},
   "outputs": [],
   "source": []
  }
 ],
 "metadata": {
  "kernelspec": {
   "display_name": "Python 3",
   "language": "python",
   "name": "python3"
  },
  "language_info": {
   "codemirror_mode": {
    "name": "ipython",
    "version": 3
   },
   "file_extension": ".py",
   "mimetype": "text/x-python",
   "name": "python",
   "nbconvert_exporter": "python",
   "pygments_lexer": "ipython3",
   "version": "3.7.6"
  }
 },
 "nbformat": 4,
 "nbformat_minor": 4
}
